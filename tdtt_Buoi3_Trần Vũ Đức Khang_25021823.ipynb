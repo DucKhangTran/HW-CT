{
 "cells": [
  {
   "cell_type": "code",
   "execution_count": 2,
   "id": "28d18799",
   "metadata": {},
   "outputs": [
    {
     "name": "stdout",
     "output_type": "stream",
     "text": [
      "654321\n"
     ]
    }
   ],
   "source": [
    "n = input()\n",
    "x = ''\n",
    "for i in range(len(n)-1, -1, -1):\n",
    "    x += n[i]\n",
    "print(x)"
   ]
  },
  {
   "cell_type": "code",
   "execution_count": 4,
   "id": "a4725971",
   "metadata": {},
   "outputs": [
    {
     "name": "stdout",
     "output_type": "stream",
     "text": [
      "3 2\n"
     ]
    }
   ],
   "source": [
    "a, b = map(int,input().split())\n",
    "\n",
    "\n",
    "a = a ^ b\n",
    "b = a ^ b\n",
    "a = a ^ b\n",
    "\n",
    "# --- Kết thúc Hoán đổi ---\n",
    "\n",
    "print(a,b)"
   ]
  },
  {
   "cell_type": "code",
   "execution_count": 1,
   "id": "ebf9bdab",
   "metadata": {},
   "outputs": [
    {
     "name": "stdout",
     "output_type": "stream",
     "text": [
      "True\n"
     ]
    }
   ],
   "source": [
    "n = int(input())\n",
    "print((n & (n - 1)) == 0)"
   ]
  },
  {
   "cell_type": "code",
   "execution_count": 7,
   "id": "7bfb948c",
   "metadata": {},
   "outputs": [
    {
     "name": "stdout",
     "output_type": "stream",
     "text": [
      "51\n"
     ]
    }
   ],
   "source": [
    "m , n = map(int, input().split())\n",
    "print(m // n)"
   ]
  },
  {
   "cell_type": "code",
   "execution_count": 9,
   "id": "49817e02",
   "metadata": {},
   "outputs": [
    {
     "name": "stdout",
     "output_type": "stream",
     "text": [
      "10\n"
     ]
    }
   ],
   "source": [
    "m , n = map(int, input().split())\n",
    "print((m//n) + 1)"
   ]
  },
  {
   "cell_type": "code",
   "execution_count": 10,
   "id": "441c64db",
   "metadata": {},
   "outputs": [
    {
     "name": "stdout",
     "output_type": "stream",
     "text": [
      "Odd\n"
     ]
    }
   ],
   "source": [
    "x = int(input())\n",
    "if x % 2 == 0:\n",
    "    print('Even')\n",
    "else:\n",
    "    print('Odd')"
   ]
  },
  {
   "cell_type": "code",
   "execution_count": 11,
   "id": "8e5cf25c",
   "metadata": {},
   "outputs": [
    {
     "name": "stdout",
     "output_type": "stream",
     "text": [
      "No\n"
     ]
    }
   ],
   "source": [
    "a = int(input())\n",
    "b = int(input())\n",
    "if a < 0 and b < 0:\n",
    "    print('Yes')\n",
    "else:\n",
    "    print('No')"
   ]
  },
  {
   "cell_type": "code",
   "execution_count": 12,
   "id": "5a55aa1f",
   "metadata": {},
   "outputs": [
    {
     "data": {
      "text/plain": [
       "False"
      ]
     },
     "execution_count": 12,
     "metadata": {},
     "output_type": "execute_result"
    }
   ],
   "source": [
    "a = input()\n",
    "b = input()\n",
    "len(a) > len(b)\n"
   ]
  },
  {
   "cell_type": "code",
   "execution_count": 23,
   "id": "05c0d150",
   "metadata": {},
   "outputs": [
    {
     "name": "stdout",
     "output_type": "stream",
     "text": [
      "Yes\n"
     ]
    }
   ],
   "source": [
    "a = int(input())\n",
    "b = int(input())\n",
    "c = int(input())\n",
    "x = max(a,b,c)\n",
    "y = a + b + c\n",
    "if x < y - x:\n",
    "    print('Yes')\n",
    "else:\n",
    "    print('No')\n"
   ]
  },
  {
   "cell_type": "code",
   "execution_count": 16,
   "id": "2f50f352",
   "metadata": {},
   "outputs": [
    {
     "name": "stdout",
     "output_type": "stream",
     "text": [
      "9\n"
     ]
    }
   ],
   "source": [
    "a = int(input())\n",
    "b = int(input())\n",
    "c = int(input())\n",
    "d = int(input())\n",
    "\n",
    "print(max(a,b,c,d))"
   ]
  },
  {
   "cell_type": "code",
   "execution_count": 21,
   "id": "a80d94e7",
   "metadata": {},
   "outputs": [
    {
     "name": "stdout",
     "output_type": "stream",
     "text": [
      "Không phải tam giác\n"
     ]
    }
   ],
   "source": [
    "a = int(input())\n",
    "b = int(input())\n",
    "c = int(input())\n",
    "x = max(a,b,c)\n",
    "y = a + b + c\n",
    "if x < y - x:\n",
    "    if a == b == c:\n",
    "        print('Tam giác đều')\n",
    "    elif a == b or a == c or b == c:\n",
    "        print('Tam giác cân')\n",
    "    else:\n",
    "        print(\"Tam giác thường\")\n",
    "else:\n",
    "    print('Không phải tam giác')\n",
    "\n",
    "\n"
   ]
  },
  {
   "cell_type": "code",
   "execution_count": 26,
   "id": "3e4c954c",
   "metadata": {},
   "outputs": [
    {
     "name": "stdout",
     "output_type": "stream",
     "text": [
      "No\n"
     ]
    }
   ],
   "source": [
    "n = int(input())\n",
    "if n % 400 == 0:\n",
    "    print('Năm nhuận')\n",
    "elif n % 4 == 0 and n % 100 != 0:\n",
    "    print('Yes')\n",
    "else:\n",
    "    print('No')"
   ]
  },
  {
   "cell_type": "code",
   "execution_count": 29,
   "id": "7e5f9dcb",
   "metadata": {},
   "outputs": [
    {
     "name": "stdout",
     "output_type": "stream",
     "text": [
      "175000\n"
     ]
    }
   ],
   "source": [
    "n = int(input())\n",
    "if n in range(0, 51):\n",
    "    print(n*1500)\n",
    "if n in range(51, 101):\n",
    "    print((n-50)*2000 + 50*1500)\n",
    "if n > 100:\n",
    "    print((n - 100)*3000 + 50*3500)"
   ]
  },
  {
   "cell_type": "code",
   "execution_count": 36,
   "id": "9c75956a",
   "metadata": {},
   "outputs": [
    {
     "name": "stdout",
     "output_type": "stream",
     "text": [
      "Vô số nghiệm\n"
     ]
    }
   ],
   "source": [
    "a = float(input())\n",
    "b = float(input())\n",
    "if a == 0 and b != 0 :\n",
    "    print('Vô nghiệm')\n",
    "elif a == 0 and b == 0: \n",
    "    print('Vô số nghiệm')\n",
    "else:\n",
    "    print(round(-b/a, 2))"
   ]
  },
  {
   "cell_type": "code",
   "execution_count": 44,
   "id": "bea2f38b",
   "metadata": {},
   "outputs": [
    {
     "name": "stdout",
     "output_type": "stream",
     "text": [
      "Khá\n"
     ]
    }
   ],
   "source": [
    "n = float(input())\n",
    "if n >= 8:\n",
    "    print('Giỏi')\n",
    "elif n < 8 and n >= 6.5:\n",
    "    print('Khá')\n",
    "elif n >= 5 and n < 6.5:\n",
    "    print('Trung bình')\n",
    "elif n < 5:\n",
    "    print('Yếu')"
   ]
  },
  {
   "cell_type": "code",
   "execution_count": 43,
   "id": "ddef1ce1",
   "metadata": {},
   "outputs": [
    {
     "name": "stdout",
     "output_type": "stream",
     "text": [
      "8 7 7\n"
     ]
    }
   ],
   "source": [
    "n = float(input())\n",
    "x = round(n // 1)\n",
    "if n - x <= 0.5:\n",
    "    x = x\n",
    "else:\n",
    "    x = x + 1\n",
    "print(round(n//1 + 1), round(n//1), x  )"
   ]
  }
 ],
 "metadata": {
  "kernelspec": {
   "display_name": "Python 3",
   "language": "python",
   "name": "python3"
  },
  "language_info": {
   "codemirror_mode": {
    "name": "ipython",
    "version": 3
   },
   "file_extension": ".py",
   "mimetype": "text/x-python",
   "name": "python",
   "nbconvert_exporter": "python",
   "pygments_lexer": "ipython3",
   "version": "3.13.7"
  }
 },
 "nbformat": 4,
 "nbformat_minor": 5
}
