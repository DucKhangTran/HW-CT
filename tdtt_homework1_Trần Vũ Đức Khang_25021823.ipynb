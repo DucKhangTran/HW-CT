{
 "cells": [
  {
   "cell_type": "code",
   "execution_count": 2,
   "id": "da51b162",
   "metadata": {},
   "outputs": [
    {
     "name": "stdout",
     "output_type": "stream",
     "text": [
      "192\n"
     ]
    }
   ],
   "source": [
    "n = int(input())\n",
    "print(n*2)\n"
   ]
  },
  {
   "cell_type": "code",
   "execution_count": 4,
   "id": "f8627481",
   "metadata": {},
   "outputs": [
    {
     "name": "stdout",
     "output_type": "stream",
     "text": [
      "7.44\n"
     ]
    }
   ],
   "source": [
    "a = int(input())\n",
    "b = int(input())\n",
    "x = min(a,b) / 2\n",
    "\n",
    "print(round(a*b - x*x*3.14, 2))"
   ]
  },
  {
   "cell_type": "code",
   "execution_count": 2,
   "id": "394c3ccb",
   "metadata": {},
   "outputs": [
    {
     "name": "stdout",
     "output_type": "stream",
     "text": [
      "C\n"
     ]
    }
   ],
   "source": [
    "c = input()\n",
    "if ord(c) in range(65, 91 ):\n",
    "    print(chr(ord(c) + 32))\n",
    "elif ord(c) in range (97, 123):\n",
    "    print(chr(ord(c) - 32))"
   ]
  },
  {
   "cell_type": "code",
   "execution_count": null,
   "id": "33669cb3",
   "metadata": {},
   "outputs": [
    {
     "name": "stdout",
     "output_type": "stream",
     "text": [
      "{h} là ký tự alphabet\n"
     ]
    }
   ],
   "source": [
    "c = input()\n",
    "if 'a' <= c <= 'z' or 'A' <= c <= 'Z':\n",
    "    print('{' + c +'}', 'là ký tự alphabet' )"
   ]
  },
  {
   "cell_type": "code",
   "execution_count": null,
   "id": "828c10e3",
   "metadata": {},
   "outputs": [
    {
     "name": "stdout",
     "output_type": "stream",
     "text": [
      "i\n"
     ]
    }
   ],
   "source": [
    "c = input()\n",
    "if 'A' < c <= 'Z':\n",
    "    print(chr(ord(c) + 31))\n",
    "if c == 'A':\n",
    "    print('z')"
   ]
  },
  {
   "cell_type": "code",
   "execution_count": null,
   "id": "1d7b8166",
   "metadata": {},
   "outputs": [
    {
     "name": "stdout",
     "output_type": "stream",
     "text": [
      "9.9\n"
     ]
    }
   ],
   "source": [
    "a = int(input())\n",
    "b = int(input())\n",
    "c = int(input())\n",
    "x = max(a,b,c)\n",
    "z = a + b + c - x\n",
    "p = (a + b + c) / 2\n",
    "if x < z:\n",
    "    print(round((p*(p - a)*(p - b)*(p - c))** 0.5, 1))\n",
    "else:\n",
    "    print('Khong phai 3 canh cua tam giac')"
   ]
  },
  {
   "cell_type": "code",
   "execution_count": null,
   "id": "a80ea6b1",
   "metadata": {},
   "outputs": [
    {
     "name": "stdout",
     "output_type": "stream",
     "text": [
      "s ,\n"
     ]
    }
   ],
   "source": [
    "n = input()\n",
    "print(n[4], n[9])"
   ]
  },
  {
   "cell_type": "code",
   "execution_count": null,
   "id": "1e7e7f1f",
   "metadata": {},
   "outputs": [
    {
     "name": "stdout",
     "output_type": "stream",
     "text": [
      "107136\n"
     ]
    }
   ],
   "source": [
    "name = input('Ten chu ho:')\n",
    "chiso1 = int(input('Chi so thang truoc:'))\n",
    "chiso2 = int(input('Chi so thang nay:'))\n",
    "x = chiso2 - chiso1\n",
    "if x in range(0, 51):\n",
    "    x *=  1984 * 1.08\n",
    "elif x in range(51, 101):\n",
    "    x *= 1.08 * 2050\n",
    "elif x in range(101, 201 ):\n",
    "    x *= 1.08* 2380\n",
    "elif x in range(201, 301):\n",
    "    x *= 1.08* 2998\n",
    "elif x in range(301, 401):\n",
    "    x *= 1.08*3350\n",
    "elif x >= 401:\n",
    "    x *=  1.08*3460\n",
    "print(round(x))"
   ]
  },
  {
   "cell_type": "code",
   "execution_count": 3,
   "id": "ac25ba34",
   "metadata": {},
   "outputs": [
    {
     "name": "stdout",
     "output_type": "stream",
     "text": [
      "Odd\n"
     ]
    }
   ],
   "source": [
    "# một số bài khác\n",
    "#1\n",
    "n = int(input())\n",
    "if n % 2 == 0:\n",
    "    print('Even')\n",
    "else:\n",
    "    print('Odd')\n"
   ]
  },
  {
   "cell_type": "code",
   "execution_count": 4,
   "id": "3ae6d4b2",
   "metadata": {},
   "outputs": [
    {
     "data": {
      "text/plain": [
       "False"
      ]
     },
     "execution_count": 4,
     "metadata": {},
     "output_type": "execute_result"
    }
   ],
   "source": [
    "#2\n",
    "n = input()\n",
    "n[len(n) - 1] ==  '5'\n",
    "    "
   ]
  },
  {
   "cell_type": "code",
   "execution_count": 5,
   "id": "64c7f665",
   "metadata": {},
   "outputs": [
    {
     "data": {
      "text/plain": [
       "True"
      ]
     },
     "execution_count": 5,
     "metadata": {},
     "output_type": "execute_result"
    }
   ],
   "source": [
    "#3\n",
    "n = int(input())\n",
    "n % 3 == 0 and n % 5 == 0"
   ]
  },
  {
   "cell_type": "code",
   "execution_count": 6,
   "id": "226447c2",
   "metadata": {},
   "outputs": [
    {
     "data": {
      "text/plain": [
       "True"
      ]
     },
     "execution_count": 6,
     "metadata": {},
     "output_type": "execute_result"
    }
   ],
   "source": [
    "#4\n",
    "n = int(input())\n",
    "2025 - n >= 18"
   ]
  },
  {
   "cell_type": "code",
   "execution_count": 7,
   "id": "6e081fd4",
   "metadata": {},
   "outputs": [
    {
     "name": "stdout",
     "output_type": "stream",
     "text": [
      "8\n"
     ]
    }
   ],
   "source": [
    "#5\n",
    "a = int(input())\n",
    "b = int(input())\n",
    "print(max(a,b))\n",
    "if a == b:\n",
    "    print('a = b')"
   ]
  },
  {
   "cell_type": "code",
   "execution_count": 10,
   "id": "c0eab5e3",
   "metadata": {},
   "outputs": [
    {
     "name": "stdout",
     "output_type": "stream",
     "text": [
      "số\n"
     ]
    }
   ],
   "source": [
    "#6\n",
    "n = input()\n",
    "if n.isalpha():\n",
    "    print('chữ')\n",
    "elif n.isdigit():\n",
    "    print('số')\n"
   ]
  },
  {
   "cell_type": "code",
   "execution_count": null,
   "id": "4d2bfcfe",
   "metadata": {},
   "outputs": [],
   "source": [
    "#7\n",
    "n = int(input())\n",
    "if n >= 8:\n",
    "    print('Giỏi')\n",
    "elif n < 8 and n >= 6.5:\n",
    "    print('Khá')\n",
    "elif n >= 5 and n < 6.5:\n",
    "    print('Trung bình')\n",
    "elif n < 5:\n",
    "    print('Yếu')"
   ]
  },
  {
   "cell_type": "code",
   "execution_count": 11,
   "id": "92a2be12",
   "metadata": {},
   "outputs": [
    {
     "name": "stdout",
     "output_type": "stream",
     "text": [
      "Năm nhuận\n"
     ]
    }
   ],
   "source": [
    "#8\n",
    "n = int(input())\n",
    "if n % 400 == 0:\n",
    "    print('Năm nhuận')\n",
    "elif n % 4 == 0 and n % 100 != 0:\n",
    "    print('Năm nhuận')\n",
    "else:\n",
    "    print('Năm ko nhuận')"
   ]
  },
  {
   "cell_type": "code",
   "execution_count": null,
   "id": "1536f6c5",
   "metadata": {},
   "outputs": [
    {
     "name": "stdout",
     "output_type": "stream",
     "text": [
      "Bảy\n"
     ]
    }
   ],
   "source": [
    "#9\n",
    "n = int(input())\n",
    "chữ = ''\n",
    "match n:\n",
    "    case 0:\n",
    "        chữ = \"Không\"\n",
    "    case 1:\n",
    "        chữ = \"Một\"\n",
    "    case 2:\n",
    "        chữ = \"Hai\"\n",
    "    case 3:\n",
    "        chữ = \"Ba\"\n",
    "    case 4:\n",
    "        chữ = \"Bốn\"\n",
    "    case 5:\n",
    "        chữ = \"Năm\"\n",
    "    case 6:\n",
    "        chữ = \"Sáu\"\n",
    "    case 7:\n",
    "        chữ = \"Bảy\"\n",
    "    case 8:\n",
    "        chữ = \"Tám\"\n",
    "    case 9:\n",
    "        chữ = \"Chín\"\n",
    "\n",
    "print(chữ)\n",
    "    \n",
    "    \n"
   ]
  },
  {
   "cell_type": "code",
   "execution_count": null,
   "id": "8ca0b667",
   "metadata": {},
   "outputs": [],
   "source": [
    "#10\n",
    "n = int(input())\n",
    "if n >= 4:\n",
    "    print('Qua môn')\n",
    "else:\n",
    "    print('Học lại')"
   ]
  },
  {
   "cell_type": "code",
   "execution_count": null,
   "id": "85bd7830",
   "metadata": {},
   "outputs": [],
   "source": [
    "#11\n",
    "n = int(input())\n",
    "print(2025 - n)"
   ]
  }
 ],
 "metadata": {
  "kernelspec": {
   "display_name": "Python 3",
   "language": "python",
   "name": "python3"
  },
  "language_info": {
   "codemirror_mode": {
    "name": "ipython",
    "version": 3
   },
   "file_extension": ".py",
   "mimetype": "text/x-python",
   "name": "python",
   "nbconvert_exporter": "python",
   "pygments_lexer": "ipython3",
   "version": "3.13.7"
  }
 },
 "nbformat": 4,
 "nbformat_minor": 5
}
